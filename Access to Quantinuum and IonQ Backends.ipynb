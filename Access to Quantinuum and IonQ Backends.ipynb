{
 "cells": [
  {
   "cell_type": "markdown",
   "id": "02ae418e",
   "metadata": {},
   "source": [
    "# Access to Quantinuum and IonQ Backends\n",
    "\n",
    "You can get access to [Quantinuum](https://www.quantinuum.com/) and [IonQ](https://ionq.com/) simulators, emulators, and quantum machines through Microsoft Azure. When creating your workspace, first-time users automatically get free 500 (USD) Azure Quantum Credits for use with each participating quantum hardware provider. If you have consumed all the credits and need more, you can apply to the [Azure Quantum Credits program](https://microsoft.qualtrics.com/jfe/form/SV_3fl9dfFrkC3g0aG?aq_source=organic). For this Hackathon, we will use the simulators and emulators that do not use Azure Quantum Credits and hence are entirely free.\n",
    "\n",
    "## Apply for Azure Quantum Credit Free Trial\n",
    "\n",
    "If you don’t have an Azure subscription, you can [create a free Azure account](https://azure.microsoft.com/en-us/free/). If you are a student and have a university email, check out the free Azure accounts [for students](https://azure.microsoft.com/en-us/free/students/). With Azure, you can create, deploy, and manage applications across multiple clouds, on-premises, and at the edge. You will get 200 (USD) Azure credit to use in other Azure services. For information regarding the application process to the Azure Quantum Credits Program see [here](https://docs.microsoft.com/en-us/azure/quantum/azure-quantum-credits?tabs=tabid-portal). Read over the details carefully\n",
    "\n",
    "Notice that Azure credits are not the same as Azure Quantum Credits. When you create a new Azure account, you get 200 (USD) of free Azure Credits to use in your first 30 days on Microsoft services. You can only use general-purpose Azure Credits with the Microsoft providers. 3rd-party providers (providers that Microsoft doesn't own) aren't eligible. Azure Quantum Credits can be used to run programs on quantum hardware. First-time users automatically get free 500 (USD) Azure Quantum Credits on top of the 200 (USD) free Azure Credits for use with each participating quantum hardware provider. Once you have consumed all the credits, you will get error messages when submitting new jobs, and you can then upgrade to a new plan to keep using the selected quantum hardware providers.\n",
    "\n",
    "### Important\n",
    "You must provide a credit or debit card during the application process. Microsoft Azure will make a temporary authorization on this card, but you won’t be charged unless you move to pay-as-you-go pricing.\n",
    "\n",
    "Although, there are no costs or charges to using your free credits, there may be some small storage costs, as the input and output of your credits jobs are stored in a storage account that you pay for. Job data is typically <1MB per job. For more details, see [Azure Blob Storage pricing](https://azure.microsoft.com/en-us/pricing/details/storage/blobs/). "
   ]
  },
  {
   "cell_type": "markdown",
   "id": "627ef1c3",
   "metadata": {},
   "source": [
    "## Create an Azure Quantum workspace\n",
    "\n",
    "Follow the directions [here](https://docs.microsoft.com/en-us/azure/quantum/how-to-create-workspace?tabs=tabid-quick) to create an Azure Quantum workspace. Briefly:\n",
    "\n",
    "1) Sign in to the Azure portal, using the credentials for your Azure subscription.\n",
    "\n",
    "2) Select Create a resource and then search for Azure Quantum. You should see a tile for the Azure Quantum service on the results page.\n",
    "\n",
    "3) Select Azure Quantum and then select Create. This opens a form to create a workspace.\n",
    "\n",
    "4) Select a subscription to associate with the new workspace, i.e. Azure subscription 1\n",
    "\n",
    "5) Select \"Quick create\"\n",
    "\n",
    "6) Type in a Workspace name of your choice, i.e. \"TKET\"\n",
    "\n",
    "7) Region, slect your region, i.e. West US (You will see that you have access to IonQ and Quantinuum) and click create. (do read the providers' terms and conditions carefully)\n",
    "\n",
    "\n",
    "Deployment of your workspace usually takes about 5 minutes to complete. Once done, you should see a message \"Your deployment is complete\". The status and deployment details will be updated in the portal.\n",
    "\n",
    "The important information for connecting your account to your computer is the `Resource ID` and `Location`, which you can find in the \"Overview\" section of your Quantum workspace.\n"
   ]
  },
  {
   "cell_type": "markdown",
   "id": "9fed720a",
   "metadata": {},
   "source": [
    "## Submitting a job through Azure Quantum\n",
    "\n",
    "To submit a simple job, or quantum program, to Quantinuum or IonQ we will need to install `pytket-qsharp`. It is an extension to `pytket` that allows `pytket` circuits to be executed on remote devices and simulators via Azure Quantum. \n",
    "\n",
    "In order to use `pytket-qsharp` you will first need to install the `dotnet SDK (6.0)` and the `iqsharp` tool. (On some Linux systems it is also necessary to modify your PATH.)\n",
    "1) See [this page](https://dotnet.microsoft.com/en-us/download/dotnet/6.0) for instructions on installing the SDK on your operating system.\n",
    "\n",
    "2) On Linux, ensure that the dotnet tools directory is on your path. Typically this will be ~/.dotnet/tools.\n",
    "\n",
    "3) Open terminal and run `dotnet tool install -g Microsoft.Quantum.IQSharp`in `C:\\` directory. You should get a mesaage stating that 'microsoft.quantum.iqsharp' was successfully installed.\n",
    "\n",
    "4) Then run `dotnet iqsharp install --user` in the terminal/\n",
    "\n",
    "Alternatively, you can set up an environment with all the required packages using conda:\n",
    "\n",
    "`conda create -n qsharp-env -c quantum-engineering qsharp notebook`\n",
    "\n",
    "`conda activate qsharp-env`\n",
    "\n",
    "Now we are ready to install `pytket-qsharp`. In your jupyter notebook run:\n",
    "\n",
    "`pip install pytket-qsharp`\n",
    "\n",
    "And then prepare the Q# environment by running:\n",
    "\n",
    "`from pytket.extensions.qsharp import AzureBackend`"
   ]
  },
  {
   "cell_type": "code",
   "execution_count": 1,
   "id": "65ea7a24",
   "metadata": {},
   "outputs": [],
   "source": [
    "pip install pytket-qsharp;"
   ]
  },
  {
   "cell_type": "code",
   "execution_count": 2,
   "id": "af853c28",
   "metadata": {},
   "outputs": [],
   "source": [
    "from pytket.extensions.qsharp import AzureBackend"
   ]
  },
  {
   "cell_type": "markdown",
   "id": "da1faad6",
   "metadata": {},
   "source": [
    "### Accessing Quantinuum and IonQ targets\n",
    "\n",
    "Azure Quantum partners with third-party companies such as IonQ and Quantinuum to deliver solutions to quantum jobs. These company offerings are called providers. Each provider can offer multiple targets with different capabilities. \n",
    "\n",
    "Quantinuum's targets are listed in the table below:\n",
    "\n",
    "| Target name | Target ID | Number of qubits | Description | \n",
    "| --- | --- | --- | --- |\n",
    "| H1-1 API Validator | quantinuum.hqs-lt-s1-apival | 12 qubits | Quantinuum's \"API validator.\" Use this to validate quantum programs before submitting to hardware or emulation on Quantinuum's platform. Free of cost. |\n",
    "| H1-1 Emulator | quantinuum.hqs-lt-s1-sim | 12 qubits | Quantinuum's quantum simulator for H1-1. Uses a noise model that is consistent with their H1-1 hardware offering. Not free of cost. |\n",
    "| H1-2 Emulator | quantinuum.hqs-lt-s2-sim | 12 qubits | Quantinuum's quantum simulator for H1-2. Uses a noise model that is consistent with their H1-2 hardware offering. Not free of cost. |\n",
    "| Quantinuum System Model: H1 Family | quantinuum.hqs-lt| 12 qubits | Quantinuum's H1 family of trapped-ion quantum computers. Not free of cost. |\n",
    "| Quantinuum System Model H1-1 | quantinuum.hqs-lt-s1| 12 qubits | Quantinuum's H1-1 computer. Not free of cost. |\n",
    "| Quantinuum System Model H-2 | quantinuum.hqs-lt-s2| 12 qubits | Quantinuum's H1-2 computer. Not free of cost. |\n",
    "\n",
    "To learn more about Quantinuum's targets, check out [this documentation](https://docs.microsoft.com/en-us/azure/quantum/provider-quantinuum) and [this](https://docs.microsoft.com/en-us/azure/quantum/provider-honeywell). How to estimate associated costs see [here](https://docs.microsoft.com/en-us/azure/quantum/pricing?tabs=tabid-AQcredits%2Ctabid-AQcreditsQ%2Ctabid-payasgo%2Ctabid-learndevelop&pivots=ide-computing).\n",
    "\n",
    "IonQ's targets are listed in this table:\n",
    "\n",
    "| Target name | Target ID | Number of qubits | Description | \n",
    "| --- | --- | --- | --- |\n",
    "| Quantum simulator | ionq.simulator | 29 qubits | IonQ's cloud-based idealized simulator. Free of cost. |\n",
    "| Quantum computer | ionq.qpu | 11 qubits | IonQ's trapped-ion quantum computer. This is real quantum hardware, not a simulation. Not for free |\n",
    "\n",
    "To learn more about IonQ's targets, check out [this documentation](https://docs.microsoft.com/en-us/azure/quantum/provider-ionq) and how to estimate associated costs see [here](https://docs.microsoft.com/en-us/azure/quantum/pricing?tabs=tabid-AQcredits%2Ctabid-AQcreditsQ%2Ctabid-payasgo%2Ctabid-learndevelop&pivots=ide-computing).\n",
    "\n",
    "To get access to Quantinuum's and IonQ's targets you need your Azure Quantum workspace `Resource ID` and `Loaction`.\n",
    "\n",
    "For example, to access the \"ionq.simulator\" use\n",
    "\n",
    "`backend_ionQ = AzureBackend(\"ionq.simulator\",resourceId=\"your resource ID\",\n",
    "   location=\"your location\")`\n",
    "   \n",
    "To access the Qunatinuum Syntax checker you run:\n",
    "\n",
    "`backend_Quant = AzureBackend(\"quantinuum.hqs-lt-s1-apival\",resourceId=\"your resource ID\",\n",
    "   location=\"your location\")`"
   ]
  },
  {
   "cell_type": "markdown",
   "id": "79b0312a",
   "metadata": {},
   "source": [
    "### Example `pytket` job submission to IonQ\n",
    "\n",
    "Let's submit a circuit to IonQ's simulator, which is free. (note that commands are commented out with \"#\" to be inactive for compilation of this manual. Remove the \"#\" when you run the code below)"
   ]
  },
  {
   "cell_type": "code",
   "execution_count": 3,
   "id": "0ed7cf03",
   "metadata": {},
   "outputs": [],
   "source": [
    "backend_ionQ = AzureBackend(\"ionq.simulator\",resourceId=\"your resource ID\",location=\"westus\")"
   ]
  },
  {
   "cell_type": "markdown",
   "id": "827bdfbd",
   "metadata": {},
   "source": [
    "Below we generate a circuit that will produce a Bell state, assuming the qubits are all initialized in the |0> state:"
   ]
  },
  {
   "cell_type": "code",
   "execution_count": 4,
   "id": "0e844c75",
   "metadata": {},
   "outputs": [
    {
     "data": {
      "text/plain": [
       "[H q[0]; CX q[0], q[1]; ]"
      ]
     },
     "execution_count": 4,
     "metadata": {},
     "output_type": "execute_result"
    }
   ],
   "source": [
    "from pytket import Circuit\n",
    "from pytket.circuit.display import render_circuit_jupyter\n",
    "circ = Circuit(2,2)\n",
    "circ.H(0)\n",
    "circ.CX(0, 1)"
   ]
  },
  {
   "cell_type": "markdown",
   "id": "e8dd905a",
   "metadata": {},
   "source": [
    "Suppose we want to measure this Bell state to get some actual results out, so let's append some `Measure` gates to the circuit. The `Circuit` class has the measure_all utility function, which appends `Measure` gates on every qubit. This function will automatically add the classical bits to the circuit if they are not already there. All of these results will be written to the default classical register ('c')."
   ]
  },
  {
   "cell_type": "code",
   "execution_count": 5,
   "id": "67e9259b",
   "metadata": {},
   "outputs": [
    {
     "data": {
      "text/html": [
       "\n",
       "\n",
       "\n",
       "\n",
       "\n",
       "\n",
       "<iframe srcdoc=\"\n",
       "&lt;!DOCTYPE html&gt;\n",
       "&lt;html lang=&#34;en&#34;&gt;\n",
       "&lt;head&gt;\n",
       "    &lt;meta charset=&#34;UTF-8&#34;&gt;\n",
       "\n",
       "    &lt;script type=&#34;application/javascript&#34; src=&#34;https://cdn.jsdelivr.net/npm/vue@3&#34;&gt;&lt;/script&gt;\n",
       "    &lt;script type=&#34;application/javascript&#34; src=&#34;https://unpkg.com/pytket-circuit-renderer@0.1/dist/pytket-circuit-renderer.umd.js&#34;&gt;&lt;/script&gt;\n",
       "    &lt;link rel=&#34;stylesheet&#34; href=&#34;https://unpkg.com/pytket-circuit-renderer@0.1/dist/pytket-circuit-renderer.css&#34;&gt;\n",
       "&lt;/head&gt;\n",
       "&lt;body&gt;\n",
       "    &lt;div id=&#34;circuit-display-vue-container-f683e1cb-874d-460e-8814-34821707d2a6&#34; class=&#34;pytket-circuit-display-container&#34;&gt;\n",
       "        &lt;div style=&#34;display: none&#34;&gt;\n",
       "            &lt;div id=&#34;circuit-json-to-display&#34;&gt;{&#34;bits&#34;: [[&#34;c&#34;, [0]], [&#34;c&#34;, [1]]], &#34;commands&#34;: [{&#34;args&#34;: [[&#34;q&#34;, [0]]], &#34;op&#34;: {&#34;type&#34;: &#34;H&#34;}}, {&#34;args&#34;: [[&#34;q&#34;, [0]], [&#34;q&#34;, [1]]], &#34;op&#34;: {&#34;type&#34;: &#34;CX&#34;}}, {&#34;args&#34;: [[&#34;q&#34;, [0]], [&#34;c&#34;, [0]]], &#34;op&#34;: {&#34;type&#34;: &#34;Measure&#34;}}, {&#34;args&#34;: [[&#34;q&#34;, [1]], [&#34;c&#34;, [1]]], &#34;op&#34;: {&#34;type&#34;: &#34;Measure&#34;}}], &#34;implicit_permutation&#34;: [[[&#34;q&#34;, [0]], [&#34;q&#34;, [0]]], [[&#34;q&#34;, [1]], [&#34;q&#34;, [1]]]], &#34;phase&#34;: &#34;0.0&#34;, &#34;qubits&#34;: [[&#34;q&#34;, [0]], [&#34;q&#34;, [1]]]}&lt;/div&gt;\n",
       "        &lt;/div&gt;\n",
       "        &lt;circuit-display-container :circuit-element-str=&#34;&#39;#circuit-json-to-display&#39;&#34;&gt;&lt;/circuit-display-container&gt;\n",
       "    &lt;/div&gt;\n",
       "\n",
       "    &lt;script type=&#34;application/javascript&#34;&gt;\n",
       "        const { createApp } = Vue;\n",
       "        const circuitDisplayContainer = window[&#34;pytket-circuit-renderer&#34;].default;\n",
       "\n",
       "        // Init variables to be shared between circuit display instances\n",
       "        if (typeof window.pytketCircuitDisplays === &#34;undefined&#34;) {\n",
       "            window.pytketCircuitDisplays = {};\n",
       "        }\n",
       "\n",
       "        const uid = &#34;f683e1cb-874d-460e-8814-34821707d2a6&#34;;\n",
       "\n",
       "        // Create the root Vue component\n",
       "        window.pytketCircuitDisplays[uid] = createApp({\n",
       "            delimiters: [&#39;[[#&#39;, &#39;#]]&#39;],\n",
       "            components: { circuitDisplayContainer },\n",
       "        }).mount(&#34;#circuit-display-vue-container-&#34;+uid);\n",
       "    &lt;/script&gt;\n",
       "&lt;/body&gt;\n",
       "&lt;/html&gt;\n",
       "\"\n",
       "        width=\"100%\" height=\"200px\"\n",
       "        style=\"border: none; outline: none; resize: vertical; overflow: auto\"></iframe>\n",
       "\n"
      ],
      "text/plain": [
       "<IPython.core.display.HTML object>"
      ]
     },
     "metadata": {},
     "output_type": "display_data"
    }
   ],
   "source": [
    "circ.measure_all()\n",
    "render_circuit_jupyter(circ)"
   ]
  },
  {
   "cell_type": "markdown",
   "id": "12adea03",
   "metadata": {},
   "source": [
    "Check if our circuit is valid to be run."
   ]
  },
  {
   "cell_type": "code",
   "execution_count": 6,
   "id": "4cfacb08",
   "metadata": {},
   "outputs": [],
   "source": [
    "backend_ionQ.valid_circuit(circ)"
   ]
  },
  {
   "cell_type": "markdown",
   "id": "853124fe",
   "metadata": {},
   "source": [
    "We are now good to run this circuit on the device. After submitting, we can use the handle to check the status of the job so that we know when results are ready to be retrieved. The `circuit_status` method works for all backends and returns a `CircuitStatus` object. If we just run `get_result` straight away, the backend will wait for results to complete, blocking any other code from running."
   ]
  },
  {
   "cell_type": "code",
   "execution_count": 7,
   "id": "e63acf5a",
   "metadata": {},
   "outputs": [],
   "source": [
    "quantum_handle = backend_ionQ.process_circuit(circ, n_shots=100)\n",
    "rint(backend_ionQ.circuit_status(quantum_handle))\n",
    "quantum_counts = backend_ionQ.get_result(quantum_handle).get_counts()\n",
    "print(quantum_counts)"
   ]
  },
  {
   "cell_type": "markdown",
   "id": "03d24080",
   "metadata": {},
   "source": [
    "### Example `pytket` job submission to Quantinuum\n",
    "\n",
    "Let's submit a circuit to Quantinuum's emulator, which is for a charge. (note that commands are commented out with \"#\" to be inactive for compilation of this manual. Remove the \"#\" when you run the code below)"
   ]
  },
  {
   "cell_type": "code",
   "execution_count": 8,
   "id": "28583e44",
   "metadata": {},
   "outputs": [],
   "source": [
    "#backend_Q = AzureBackend(\"quantinuum.hqs-lt-s1-sim\",resourceId=\"your resource ID\",location=\"westus\")"
   ]
  },
  {
   "cell_type": "code",
   "execution_count": 9,
   "id": "10b5e1d1",
   "metadata": {},
   "outputs": [],
   "source": [
    "#backend_Q.valid_circuit(circ)"
   ]
  },
  {
   "cell_type": "code",
   "execution_count": 10,
   "id": "6ee2cc88",
   "metadata": {},
   "outputs": [],
   "source": [
    "#quantum_handle = backend_Q.process_circuit(circ, n_shots=10)\n",
    "#print(backend_Q.circuit_status(quantum_handle))\n",
    "#quantum_counts = backend_Q.get_result(quantum_handle).get_counts()\n",
    "#print(quantum_counts)"
   ]
  },
  {
   "cell_type": "markdown",
   "id": "ca29ddcc",
   "metadata": {},
   "source": [
    "Quantinuum's quotas are tracked based on the QPU usage credit unit, H1 Quantum Credit (HQC) for jobs submitted to System Model H1 quantum computer series, and eHQC for the emulators. The estimated cost for running this Bell state 10 times on a H1 emulator is 5 eHQC. (Note HQC and eHQC are computed using the same formula). Your free Azure Quantum account gives you 160 eHQC. We now have used 5 of the 160 eHQC. "
   ]
  }
 ],
 "metadata": {
  "kernelspec": {
   "display_name": "Python 3 (ipykernel)",
   "language": "python",
   "name": "python3"
  },
  "language_info": {
   "codemirror_mode": {
    "name": "ipython",
    "version": 3
   },
   "file_extension": ".py",
   "mimetype": "text/x-python",
   "name": "python",
   "nbconvert_exporter": "python",
   "pygments_lexer": "ipython3",
   "version": "3.9.12"
  }
 },
 "nbformat": 4,
 "nbformat_minor": 5
}
